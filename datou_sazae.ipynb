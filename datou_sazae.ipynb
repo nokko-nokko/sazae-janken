{
 "cells": [
  {
   "cell_type": "code",
   "execution_count": 2,
   "id": "d094a7ea",
   "metadata": {},
   "outputs": [],
   "source": [
    "import numpy as np\n",
    "\n",
    "# 勝敗と勝率の計算\n",
    "def calculate_values(matrix):\n",
    "    matrix = np.array(matrix)\n",
    "\n",
    "    win = matrix[0, 0] + matrix[1, 1] + matrix[2, 2]\n",
    "    lose = matrix[0, 2] + matrix[1, 0] + matrix[2, 1]\n",
    "    draw = matrix[0, 1] + matrix[1, 2] + matrix[2, 0]\n",
    "\n",
    "    total_sum = matrix.sum()\n",
    "    accuracy = win * 100 / total_sum\n",
    "    accuracy_2 = (win + lose) * 100 / total_sum\n",
    "    \n",
    "    return win, lose, draw, accuracy, accuracy_2\n",
    "\n",
    "# 予測結果への対策\n",
    "def my_hand(pred):\n",
    "    if(isinstance(pred, np.ndarray)):\n",
    "        pred = pred[0]\n",
    "    \n",
    "    if(pred == 0):\n",
    "        opponent = \"グー\"\n",
    "        me = \"パー\"\n",
    "    elif(pred == 1):\n",
    "        opponent = \"チョキ\"\n",
    "        me = \"グー\"\n",
    "    else:\n",
    "        opponent = \"パー\"\n",
    "        me = \"チョキ\"\n",
    "    \n",
    "    return opponent, me\n",
    "\n",
    "# 今日の説明変数\n",
    "today = [[0,2,1,5]]"
   ]
  },
  {
   "cell_type": "code",
   "execution_count": 3,
   "id": "d19fa58f",
   "metadata": {},
   "outputs": [],
   "source": [
    "import pandas as pd\n",
    "import sklearn\n",
    "from sklearn.model_selection import train_test_split\n",
    "from sklearn.svm import SVC\n",
    "from sklearn.preprocessing import StandardScaler\n",
    "from sklearn.metrics import confusion_matrix\n",
    "\n",
    "# データの読み込み\n",
    "df = pd.read_csv('sazae_python.csv')\n",
    "\n",
    "# 説明変数と目的変数の設定\n",
    "data_orig = sklearn.utils.Bunch()\n",
    "data_orig['target'] = df['sazae']\n",
    "data_orig['data'] = df.loc[:, ['week_1','recent_G','recent_C','recent_P']]"
   ]
  },
  {
   "cell_type": "markdown",
   "id": "1085b205-f49c-44d0-96f1-6eb925073814",
   "metadata": {},
   "source": [
    "## サポートベクターマシン（デフォルト）"
   ]
  },
  {
   "cell_type": "code",
   "execution_count": 4,
   "id": "e5ab04e8",
   "metadata": {},
   "outputs": [
    {
     "name": "stdout",
     "output_type": "stream",
     "text": [
      "テストデータ： 187 勝 69 敗 76 分（勝率： 56.325301204819276 ％、負けない確率： 77.10843373493977 ％）\n",
      "今日は パー を出してくるので チョキ を出してください\n"
     ]
    },
    {
     "name": "stderr",
     "output_type": "stream",
     "text": [
      "/Users/hashimototatsunori/.venv/lib/python3.12/site-packages/sklearn/base.py:493: UserWarning: X does not have valid feature names, but StandardScaler was fitted with feature names\n",
      "  warnings.warn(\n"
     ]
    }
   ],
   "source": [
    "# 訓練データとテストデータに分割\n",
    "from sklearn.model_selection import train_test_split\n",
    "X_train, X_test, y_train, y_test = train_test_split(data_orig['data'], data_orig['target'], test_size=0.2, shuffle=True, random_state=0)\n",
    "\n",
    "# 説明変数を標準化\n",
    "scaler = StandardScaler()\n",
    "X_train_scaled = scaler.fit_transform(X_train)\n",
    "X_test_scaled = scaler.transform(X_test)\n",
    "\n",
    "# SVMモデルの構築\n",
    "model = SVC(kernel='linear', C=1)\n",
    "model.fit(X_train_scaled, y_train)\n",
    "\n",
    "# テストデータで予測\n",
    "y_pred = model.predict(X_test_scaled)\n",
    "\n",
    "# 精度の計算\n",
    "win, lose, draw, accuracy, accuracy_2 = calculate_values(confusion_matrix(y_test, y_pred))\n",
    "print(\"テストデータ：\",win, \"勝\", lose, \"敗\", draw, \"分（勝率：\", accuracy, \"％、負けない確率：\", accuracy_2,\"％）\")\n",
    "\n",
    "# 新規データ X_new を標準化\n",
    "X_new_scaled = scaler.transform(today)\n",
    "\n",
    "# SVMモデルを用いて予測\n",
    "y_new_pred = model.predict(X_new_scaled)\n",
    "opponent, me = my_hand(y_new_pred)\n",
    "print(\"今日は\", opponent, \"を出してくるので\", me, \"を出してください\")"
   ]
  },
  {
   "cell_type": "markdown",
   "id": "e1a4ce8c-b169-4a2b-9602-b34882f7d1c8",
   "metadata": {},
   "source": [
    "## サポートベクターマシン（グリッドサーチ）"
   ]
  },
  {
   "cell_type": "code",
   "execution_count": 5,
   "id": "67a9dc08",
   "metadata": {},
   "outputs": [
    {
     "name": "stdout",
     "output_type": "stream",
     "text": [
      "Best Parameters: {'C': 10, 'degree': 2, 'kernel': 'rbf'} \n",
      "\n",
      "テストデータ： 184 勝 74 敗 74 分（勝率： 55.42168674698795 ％、負けない確率： 77.71084337349397 ％）\n",
      "今日は パー を出してくるので チョキ を出してください\n"
     ]
    },
    {
     "name": "stderr",
     "output_type": "stream",
     "text": [
      "/Users/hashimototatsunori/.venv/lib/python3.12/site-packages/sklearn/base.py:493: UserWarning: X does not have valid feature names, but StandardScaler was fitted with feature names\n",
      "  warnings.warn(\n"
     ]
    }
   ],
   "source": [
    "from sklearn.model_selection import GridSearchCV\n",
    "\n",
    "# ハイパーパラメータの範囲を指定\n",
    "param_grid = {\n",
    "    'C': [0.1, 1, 10],\n",
    "    'kernel': ['linear', 'rbf', 'poly'],\n",
    "    'degree': [2, 3, 4],\n",
    "}\n",
    "\n",
    "# Grid Searchを使用して最適なハイパーパラメータを探索\n",
    "grid_search = GridSearchCV(SVC(), param_grid, cv=5, scoring='accuracy')\n",
    "grid_search.fit(X_train_scaled, y_train)\n",
    "\n",
    "# 最適なハイパーパラメータを表示\n",
    "print(\"Best Parameters:\", grid_search.best_params_,\"\\n\")\n",
    "\n",
    "# 最適なモデルでテストデータで評価\n",
    "best_model = grid_search.best_estimator_\n",
    "y_pred = best_model.predict(X_test_scaled)\n",
    "\n",
    "# 精度の計算\n",
    "win, lose, draw, accuracy, accuracy_2 = calculate_values(confusion_matrix(y_test, y_pred))\n",
    "print(\"テストデータ：\",win, \"勝\", lose, \"敗\", draw, \"分（勝率：\", accuracy, \"％、負けない確率：\", accuracy_2,\"％）\")\n",
    "\n",
    "# 新規データ X_new を標準化\n",
    "X_new_scaled = scaler.transform(today)\n",
    "\n",
    "# SVMモデルを用いて予測\n",
    "y_new_pred = model.predict(X_new_scaled)\n",
    "opponent, me = my_hand(y_new_pred)\n",
    "print(\"今日は\", opponent, \"を出してくるので\", me, \"を出してください\")"
   ]
  },
  {
   "cell_type": "markdown",
   "id": "e6120dd2-33d3-4837-b504-2954e79fc225",
   "metadata": {},
   "source": [
    "## サポートベクターマシン（ランダムサーチ）"
   ]
  },
  {
   "cell_type": "code",
   "execution_count": 6,
   "id": "11ba689e",
   "metadata": {},
   "outputs": [
    {
     "name": "stdout",
     "output_type": "stream",
     "text": [
      "Best Parameters: {'kernel': 'poly', 'degree': 4, 'C': 1} \n",
      "\n",
      "テストデータ： 184 勝 74 敗 74 分（勝率： 55.42168674698795 ％、負けない確率： 77.71084337349397 ％）\n",
      "今日は パー を出してくるので チョキ を出してください\n"
     ]
    },
    {
     "name": "stderr",
     "output_type": "stream",
     "text": [
      "/Users/hashimototatsunori/.venv/lib/python3.12/site-packages/sklearn/base.py:493: UserWarning: X does not have valid feature names, but StandardScaler was fitted with feature names\n",
      "  warnings.warn(\n"
     ]
    }
   ],
   "source": [
    "from sklearn.model_selection import RandomizedSearchCV\n",
    "from scipy.stats import randint\n",
    "\n",
    "# ハイパーパラメータの範囲を指定\n",
    "param_dist = {\n",
    "    'C': [0.1, 1, 10],\n",
    "    'kernel': ['linear', 'rbf', 'poly'],\n",
    "    'degree': [2, 3, 4],\n",
    "}\n",
    "\n",
    "# Randomized Searchを使用して最適なハイパーパラメータを探索\n",
    "random_search = RandomizedSearchCV(SVC(), param_distributions=param_dist, n_iter=10, cv=5, scoring='accuracy', random_state=42)\n",
    "random_search.fit(X_train_scaled, y_train)\n",
    "\n",
    "# 最適なハイパーパラメータを表示\n",
    "print(\"Best Parameters:\", random_search.best_params_,\"\\n\")\n",
    "\n",
    "# 最適なモデルでテストデータで評価\n",
    "best_model_random = random_search.best_estimator_\n",
    "y_pred_random = best_model_random.predict(X_test_scaled)\n",
    "\n",
    "# 精度の計算\n",
    "win, lose, draw, accuracy, accuracy_2 = calculate_values(confusion_matrix(y_test, y_pred))\n",
    "print(\"テストデータ：\",win, \"勝\", lose, \"敗\", draw, \"分（勝率：\", accuracy, \"％、負けない確率：\", accuracy_2,\"％）\")\n",
    "\n",
    "# 新規データ X_new を標準化\n",
    "X_new_scaled = scaler.transform(today)\n",
    "\n",
    "# SVMモデルを用いて予測\n",
    "y_new_pred = model.predict(X_new_scaled)\n",
    "opponent, me = my_hand(y_new_pred)\n",
    "print(\"今日は\", opponent, \"を出してくるので\", me, \"を出してください\")"
   ]
  },
  {
   "cell_type": "markdown",
   "id": "319a87a9-f9d0-4042-b5b6-186da3ea4643",
   "metadata": {},
   "source": [
    "## ランダムフォレスト"
   ]
  },
  {
   "cell_type": "code",
   "execution_count": 7,
   "id": "c9d1a24c",
   "metadata": {},
   "outputs": [
    {
     "name": "stdout",
     "output_type": "stream",
     "text": [
      "テストデータ： 188 勝 75 敗 69 分（勝率： 56.626506024096386 ％、負けない確率： 79.21686746987952 ％）\n",
      "今日は パー を出してくるので チョキ を出してください\n"
     ]
    },
    {
     "name": "stderr",
     "output_type": "stream",
     "text": [
      "/Users/hashimototatsunori/.venv/lib/python3.12/site-packages/sklearn/base.py:493: UserWarning: X does not have valid feature names, but StandardScaler was fitted with feature names\n",
      "  warnings.warn(\n"
     ]
    }
   ],
   "source": [
    "from sklearn.ensemble import RandomForestClassifier\n",
    "\n",
    "# ランダムフォレストの構築\n",
    "model = RandomForestClassifier(n_estimators=100, random_state=42)\n",
    "\n",
    "# モデルの訓練\n",
    "model.fit(X_train_scaled, y_train)\n",
    "\n",
    "# テストデータで評価\n",
    "y_pred = model.predict(X_test_scaled)\n",
    "\n",
    "# 精度の計算\n",
    "win, lose, draw, accuracy, accuracy_2 = calculate_values(confusion_matrix(y_test, y_pred))\n",
    "print(\"テストデータ：\",win, \"勝\", lose, \"敗\", draw, \"分（勝率：\", accuracy, \"％、負けない確率：\", accuracy_2,\"％）\")\n",
    "\n",
    "# 新規データ X_new を標準化\n",
    "X_new_scaled = scaler.transform(today)\n",
    "\n",
    "# ランダムフォレストを用いて予測\n",
    "y_new_pred = model.predict(X_new_scaled)\n",
    "opponent, me = my_hand(y_new_pred)\n",
    "print(\"今日は\", opponent, \"を出してくるので\", me, \"を出してください\")"
   ]
  },
  {
   "cell_type": "markdown",
   "id": "2939c93d-225a-4c3c-8c4a-410ff8392ca4",
   "metadata": {},
   "source": [
    "## ニューラルネットワーク"
   ]
  },
  {
   "cell_type": "code",
   "execution_count": 8,
   "id": "21806214-d627-4c49-ab8b-fc320d8a4c54",
   "metadata": {},
   "outputs": [
    {
     "name": "stdout",
     "output_type": "stream",
     "text": [
      "Epoch 1/25\n"
     ]
    },
    {
     "name": "stderr",
     "output_type": "stream",
     "text": [
      "/Users/hashimototatsunori/.venv/lib/python3.12/site-packages/keras/src/layers/core/dense.py:86: UserWarning: Do not pass an `input_shape`/`input_dim` argument to a layer. When using Sequential models, prefer using an `Input(shape)` object as the first layer in the model instead.\n",
      "  super().__init__(activity_regularizer=activity_regularizer, **kwargs)\n"
     ]
    },
    {
     "name": "stdout",
     "output_type": "stream",
     "text": [
      "\u001b[1m42/42\u001b[0m \u001b[32m━━━━━━━━━━━━━━━━━━━━\u001b[0m\u001b[37m\u001b[0m \u001b[1m0s\u001b[0m 1ms/step - accuracy: 0.4191 - loss: 1.0595 - val_accuracy: 0.5392 - val_loss: 0.9798\n",
      "Epoch 2/25\n",
      "\u001b[1m42/42\u001b[0m \u001b[32m━━━━━━━━━━━━━━━━━━━━\u001b[0m\u001b[37m\u001b[0m \u001b[1m0s\u001b[0m 392us/step - accuracy: 0.5523 - loss: 0.9524 - val_accuracy: 0.5271 - val_loss: 1.0464\n",
      "Epoch 3/25\n",
      "\u001b[1m42/42\u001b[0m \u001b[32m━━━━━━━━━━━━━━━━━━━━\u001b[0m\u001b[37m\u001b[0m \u001b[1m0s\u001b[0m 381us/step - accuracy: 0.5391 - loss: 0.9489 - val_accuracy: 0.5241 - val_loss: 1.0965\n",
      "Epoch 4/25\n",
      "\u001b[1m42/42\u001b[0m \u001b[32m━━━━━━━━━━━━━━━━━━━━\u001b[0m\u001b[37m\u001b[0m \u001b[1m0s\u001b[0m 378us/step - accuracy: 0.5923 - loss: 0.8935 - val_accuracy: 0.4940 - val_loss: 1.1813\n",
      "Epoch 5/25\n",
      "\u001b[1m42/42\u001b[0m \u001b[32m━━━━━━━━━━━━━━━━━━━━\u001b[0m\u001b[37m\u001b[0m \u001b[1m0s\u001b[0m 389us/step - accuracy: 0.5658 - loss: 0.9106 - val_accuracy: 0.5422 - val_loss: 1.0934\n",
      "Epoch 6/25\n",
      "\u001b[1m42/42\u001b[0m \u001b[32m━━━━━━━━━━━━━━━━━━━━\u001b[0m\u001b[37m\u001b[0m \u001b[1m0s\u001b[0m 448us/step - accuracy: 0.5842 - loss: 0.9001 - val_accuracy: 0.5211 - val_loss: 1.2062\n",
      "Epoch 7/25\n",
      "\u001b[1m42/42\u001b[0m \u001b[32m━━━━━━━━━━━━━━━━━━━━\u001b[0m\u001b[37m\u001b[0m \u001b[1m0s\u001b[0m 431us/step - accuracy: 0.5691 - loss: 0.9182 - val_accuracy: 0.5090 - val_loss: 1.2053\n",
      "Epoch 8/25\n",
      "\u001b[1m42/42\u001b[0m \u001b[32m━━━━━━━━━━━━━━━━━━━━\u001b[0m\u001b[37m\u001b[0m \u001b[1m0s\u001b[0m 452us/step - accuracy: 0.5588 - loss: 0.9171 - val_accuracy: 0.5211 - val_loss: 1.1759\n",
      "Epoch 9/25\n",
      "\u001b[1m42/42\u001b[0m \u001b[32m━━━━━━━━━━━━━━━━━━━━\u001b[0m\u001b[37m\u001b[0m \u001b[1m0s\u001b[0m 418us/step - accuracy: 0.5727 - loss: 0.9001 - val_accuracy: 0.5151 - val_loss: 1.1995\n",
      "Epoch 10/25\n",
      "\u001b[1m42/42\u001b[0m \u001b[32m━━━━━━━━━━━━━━━━━━━━\u001b[0m\u001b[37m\u001b[0m \u001b[1m0s\u001b[0m 427us/step - accuracy: 0.5698 - loss: 0.9133 - val_accuracy: 0.5151 - val_loss: 1.1605\n",
      "Epoch 11/25\n",
      "\u001b[1m42/42\u001b[0m \u001b[32m━━━━━━━━━━━━━━━━━━━━\u001b[0m\u001b[37m\u001b[0m \u001b[1m0s\u001b[0m 416us/step - accuracy: 0.6061 - loss: 0.8745 - val_accuracy: 0.5151 - val_loss: 1.1942\n",
      "Epoch 12/25\n",
      "\u001b[1m42/42\u001b[0m \u001b[32m━━━━━━━━━━━━━━━━━━━━\u001b[0m\u001b[37m\u001b[0m \u001b[1m0s\u001b[0m 402us/step - accuracy: 0.5788 - loss: 0.8976 - val_accuracy: 0.5120 - val_loss: 1.1545\n",
      "Epoch 13/25\n",
      "\u001b[1m42/42\u001b[0m \u001b[32m━━━━━━━━━━━━━━━━━━━━\u001b[0m\u001b[37m\u001b[0m \u001b[1m0s\u001b[0m 400us/step - accuracy: 0.5826 - loss: 0.8936 - val_accuracy: 0.4729 - val_loss: 1.3058\n",
      "Epoch 14/25\n",
      "\u001b[1m42/42\u001b[0m \u001b[32m━━━━━━━━━━━━━━━━━━━━\u001b[0m\u001b[37m\u001b[0m \u001b[1m0s\u001b[0m 405us/step - accuracy: 0.5988 - loss: 0.8751 - val_accuracy: 0.4578 - val_loss: 1.3219\n",
      "Epoch 15/25\n",
      "\u001b[1m42/42\u001b[0m \u001b[32m━━━━━━━━━━━━━━━━━━━━\u001b[0m\u001b[37m\u001b[0m \u001b[1m0s\u001b[0m 422us/step - accuracy: 0.5816 - loss: 0.8974 - val_accuracy: 0.4669 - val_loss: 1.2019\n",
      "Epoch 16/25\n",
      "\u001b[1m42/42\u001b[0m \u001b[32m━━━━━━━━━━━━━━━━━━━━\u001b[0m\u001b[37m\u001b[0m \u001b[1m0s\u001b[0m 410us/step - accuracy: 0.5842 - loss: 0.8834 - val_accuracy: 0.4518 - val_loss: 1.3336\n",
      "Epoch 17/25\n",
      "\u001b[1m42/42\u001b[0m \u001b[32m━━━━━━━━━━━━━━━━━━━━\u001b[0m\u001b[37m\u001b[0m \u001b[1m0s\u001b[0m 414us/step - accuracy: 0.5939 - loss: 0.8777 - val_accuracy: 0.4639 - val_loss: 1.2533\n",
      "Epoch 18/25\n",
      "\u001b[1m42/42\u001b[0m \u001b[32m━━━━━━━━━━━━━━━━━━━━\u001b[0m\u001b[37m\u001b[0m \u001b[1m0s\u001b[0m 411us/step - accuracy: 0.5648 - loss: 0.9073 - val_accuracy: 0.4398 - val_loss: 1.3033\n",
      "Epoch 19/25\n",
      "\u001b[1m42/42\u001b[0m \u001b[32m━━━━━━━━━━━━━━━━━━━━\u001b[0m\u001b[37m\u001b[0m \u001b[1m0s\u001b[0m 421us/step - accuracy: 0.5908 - loss: 0.8779 - val_accuracy: 0.4458 - val_loss: 1.3691\n",
      "Epoch 20/25\n",
      "\u001b[1m42/42\u001b[0m \u001b[32m━━━━━━━━━━━━━━━━━━━━\u001b[0m\u001b[37m\u001b[0m \u001b[1m0s\u001b[0m 423us/step - accuracy: 0.6027 - loss: 0.8780 - val_accuracy: 0.4458 - val_loss: 1.3530\n",
      "Epoch 21/25\n",
      "\u001b[1m42/42\u001b[0m \u001b[32m━━━━━━━━━━━━━━━━━━━━\u001b[0m\u001b[37m\u001b[0m \u001b[1m0s\u001b[0m 415us/step - accuracy: 0.5763 - loss: 0.9069 - val_accuracy: 0.4398 - val_loss: 1.2832\n",
      "Epoch 22/25\n",
      "\u001b[1m42/42\u001b[0m \u001b[32m━━━━━━━━━━━━━━━━━━━━\u001b[0m\u001b[37m\u001b[0m \u001b[1m0s\u001b[0m 414us/step - accuracy: 0.5952 - loss: 0.8796 - val_accuracy: 0.4458 - val_loss: 1.3527\n",
      "Epoch 23/25\n",
      "\u001b[1m42/42\u001b[0m \u001b[32m━━━━━━━━━━━━━━━━━━━━\u001b[0m\u001b[37m\u001b[0m \u001b[1m0s\u001b[0m 405us/step - accuracy: 0.5788 - loss: 0.8968 - val_accuracy: 0.4458 - val_loss: 1.3152\n",
      "Epoch 24/25\n",
      "\u001b[1m42/42\u001b[0m \u001b[32m━━━━━━━━━━━━━━━━━━━━\u001b[0m\u001b[37m\u001b[0m \u001b[1m0s\u001b[0m 428us/step - accuracy: 0.5832 - loss: 0.8978 - val_accuracy: 0.4488 - val_loss: 1.3893\n",
      "Epoch 25/25\n",
      "\u001b[1m42/42\u001b[0m \u001b[32m━━━━━━━━━━━━━━━━━━━━\u001b[0m\u001b[37m\u001b[0m \u001b[1m0s\u001b[0m 527us/step - accuracy: 0.6135 - loss: 0.8650 - val_accuracy: 0.4488 - val_loss: 1.4149\n",
      "\u001b[1m11/11\u001b[0m \u001b[32m━━━━━━━━━━━━━━━━━━━━\u001b[0m\u001b[37m\u001b[0m \u001b[1m0s\u001b[0m 1ms/step \n",
      "テストデータ： 187 勝 70 敗 75 分（勝率： 56.325301204819276 ％、負けない確率： 77.40963855421687 ％）\n",
      "\u001b[1m1/1\u001b[0m \u001b[32m━━━━━━━━━━━━━━━━━━━━\u001b[0m\u001b[37m\u001b[0m \u001b[1m0s\u001b[0m 6ms/step\n",
      "今日は パー を出してくるので チョキ を出してください\n"
     ]
    },
    {
     "name": "stderr",
     "output_type": "stream",
     "text": [
      "/Users/hashimototatsunori/.venv/lib/python3.12/site-packages/sklearn/base.py:493: UserWarning: X does not have valid feature names, but StandardScaler was fitted with feature names\n",
      "  warnings.warn(\n"
     ]
    }
   ],
   "source": [
    "from keras.models import Sequential\n",
    "from keras.layers import Dense\n",
    "from keras.utils import to_categorical\n",
    "\n",
    "# カテゴリ変数に変換\n",
    "y_categorical = to_categorical(data_orig['target'])\n",
    "\n",
    "# 訓練データとテストデータに分割\n",
    "X_train, X_test, y_train, y_test = train_test_split(data_orig['data'], y_categorical, test_size=0.2, random_state=42)\n",
    "\n",
    "# 説明変数を標準化\n",
    "scaler = StandardScaler()\n",
    "X_train_scaled = scaler.fit_transform(X_train)\n",
    "X_test_scaled = scaler.transform(X_test)\n",
    "\n",
    "# ニューラルネットワークの構築\n",
    "model = Sequential()\n",
    "model.add(Dense(64, input_dim=4, activation='relu'))\n",
    "model.add(Dense(32, activation='relu'))\n",
    "model.add(Dense(32, activation='relu'))\n",
    "model.add(Dense(3, activation='softmax'))\n",
    "\n",
    "# モデルのコンパイル\n",
    "model.compile(loss='categorical_crossentropy', optimizer='adam', metrics=['accuracy'])\n",
    "\n",
    "# モデルの訓練\n",
    "model.fit(X_train_scaled, y_train, epochs=25, batch_size=32, validation_data=(X_test, y_test))\n",
    "\n",
    "# テストデータで評価\n",
    "y_pred = model.predict(X_test_scaled)\n",
    "y_pred_classes = np.argmax(y_pred, axis=1)\n",
    "y_test_classes = np.argmax(y_test, axis=1)\n",
    "\n",
    "# 精度の計算\n",
    "win, lose, draw, accuracy, accuracy_2 = calculate_values(confusion_matrix(y_test_classes, y_pred_classes))\n",
    "print(\"テストデータ：\",win, \"勝\", lose, \"敗\", draw, \"分（勝率：\", accuracy, \"％、負けない確率：\", accuracy_2,\"％）\")\n",
    "\n",
    "# 新規データ X_new を標準化\n",
    "X_new_scaled = scaler.transform(today)\n",
    "\n",
    "# ニューラルネットワークを用いて予測\n",
    "y_new_pred = model.predict(X_new_scaled)\n",
    "opponent, me = my_hand(np.argmax(y_new_pred))\n",
    "print(\"今日は\", opponent, \"を出してくるので\", me, \"を出してください\")"
   ]
  },
  {
   "cell_type": "code",
   "execution_count": null,
   "id": "73404d3e-b2f7-49f7-aae3-2fbe4821fd58",
   "metadata": {},
   "outputs": [],
   "source": []
  }
 ],
 "metadata": {
  "kernelspec": {
   "display_name": ".venv",
   "language": "python",
   "name": ".venv"
  },
  "language_info": {
   "codemirror_mode": {
    "name": "ipython",
    "version": 3
   },
   "file_extension": ".py",
   "mimetype": "text/x-python",
   "name": "python",
   "nbconvert_exporter": "python",
   "pygments_lexer": "ipython3",
   "version": "3.12.3"
  }
 },
 "nbformat": 4,
 "nbformat_minor": 5
}
