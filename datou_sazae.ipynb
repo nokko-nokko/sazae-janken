{
 "cells": [
  {
   "cell_type": "code",
   "execution_count": 1,
   "id": "d094a7ea",
   "metadata": {},
   "outputs": [],
   "source": [
    "import numpy as np\n",
    "\n",
    "# 勝敗と勝率の計算\n",
    "def calculate_values(matrix):\n",
    "    matrix = np.array(matrix)\n",
    "\n",
    "    win = matrix[0, 0] + matrix[1, 1] + matrix[2, 2]\n",
    "    lose = matrix[0, 2] + matrix[1, 0] + matrix[2, 1]\n",
    "    draw = matrix[0, 1] + matrix[1, 2] + matrix[2, 0]\n",
    "\n",
    "    total_sum = matrix.sum()\n",
    "    accuracy = win * 100 / total_sum\n",
    "    accuracy_2 = (win + lose) * 100 / total_sum\n",
    "    \n",
    "    return win, lose, draw, accuracy, accuracy_2\n",
    "\n",
    "# 予測結果への対策\n",
    "def my_hand(pred):\n",
    "    if(isinstance(pred, np.ndarray)):\n",
    "        pred = pred[0]\n",
    "    \n",
    "    if(pred == 0):\n",
    "        opponent = \"グー\"\n",
    "        me = \"パー\"\n",
    "    elif(pred == 1):\n",
    "        opponent = \"チョキ\"\n",
    "        me = \"グー\"\n",
    "    else:\n",
    "        opponent = \"パー\"\n",
    "        me = \"チョキ\"\n",
    "    \n",
    "    return opponent, me\n",
    "\n",
    "# 今日の説明変数\n",
    "today = [[0,1,3,2]]"
   ]
  },
  {
   "cell_type": "code",
   "execution_count": 2,
   "id": "d19fa58f",
   "metadata": {},
   "outputs": [],
   "source": [
    "import pandas as pd\n",
    "import sklearn\n",
    "from sklearn.model_selection import train_test_split\n",
    "from sklearn.svm import SVC\n",
    "from sklearn.preprocessing import StandardScaler\n",
    "from sklearn.metrics import confusion_matrix\n",
    "\n",
    "# データの読み込み\n",
    "df = pd.read_csv('sazae_python.csv')\n",
    "\n",
    "# 説明変数と目的変数の設定\n",
    "data_orig = sklearn.utils.Bunch()\n",
    "data_orig['target'] = df['sazae']\n",
    "data_orig['data'] = df.loc[:, ['week_1','recent_G','recent_C','recent_P']]\n",
    "\n",
    "# 訓練データとテストデータに分割\n",
    "from sklearn.model_selection import train_test_split\n",
    "X_train, X_test, y_train, y_test = train_test_split(data_orig['data'], data_orig['target'], test_size=0.2, shuffle=True, random_state=0)"
   ]
  },
  {
   "cell_type": "code",
   "execution_count": 3,
   "id": "e5ab04e8",
   "metadata": {},
   "outputs": [
    {
     "name": "stdout",
     "output_type": "stream",
     "text": [
      "テストデータ： 187 勝 69 敗 72 分（勝率： 57.01219512195122 ％、負けない確率： 78.04878048780488 ％）\n",
      "今日は チョキ を出してくるので グー を出してください\n"
     ]
    },
    {
     "name": "stderr",
     "output_type": "stream",
     "text": [
      "/Users/hashimototatsunori/.venv/lib/python3.12/site-packages/sklearn/base.py:493: UserWarning: X does not have valid feature names, but StandardScaler was fitted with feature names\n",
      "  warnings.warn(\n"
     ]
    }
   ],
   "source": [
    "# 説明変数を標準化\n",
    "scaler = StandardScaler()\n",
    "X_train_scaled = scaler.fit_transform(X_train)\n",
    "X_test_scaled = scaler.transform(X_test)\n",
    "\n",
    "# SVMモデルの構築\n",
    "model = SVC(kernel='linear', C=1)\n",
    "model.fit(X_train_scaled, y_train)\n",
    "\n",
    "# テストデータで予測\n",
    "y_pred = model.predict(X_test_scaled)\n",
    "\n",
    "# 精度の計算\n",
    "win, lose, draw, accuracy, accuracy_2 = calculate_values(confusion_matrix(y_test, y_pred))\n",
    "print(\"テストデータ：\",win, \"勝\", lose, \"敗\", draw, \"分（勝率：\", accuracy, \"％、負けない確率：\", accuracy_2,\"％）\")\n",
    "\n",
    "# 新規データ X_new を標準化\n",
    "X_new_scaled = scaler.transform(today)\n",
    "\n",
    "# SVMモデルを用いて予測\n",
    "y_new_pred = model.predict(X_new_scaled)\n",
    "opponent, me = my_hand(y_new_pred)\n",
    "print(\"今日は\", opponent, \"を出してくるので\", me, \"を出してください\")"
   ]
  },
  {
   "cell_type": "code",
   "execution_count": 4,
   "id": "67a9dc08",
   "metadata": {},
   "outputs": [
    {
     "name": "stdout",
     "output_type": "stream",
     "text": [
      "Best Parameters: {'C': 0.1, 'degree': 2, 'kernel': 'rbf'} \n",
      "\n",
      "テストデータ： 193 勝 63 敗 72 分（勝率： 58.84146341463415 ％、負けない確率： 78.04878048780488 ％）\n",
      "今日は チョキ を出してくるので グー を出してください\n"
     ]
    },
    {
     "name": "stderr",
     "output_type": "stream",
     "text": [
      "/Users/hashimototatsunori/.venv/lib/python3.12/site-packages/sklearn/base.py:493: UserWarning: X does not have valid feature names, but StandardScaler was fitted with feature names\n",
      "  warnings.warn(\n"
     ]
    }
   ],
   "source": [
    "from sklearn.model_selection import GridSearchCV\n",
    "\n",
    "# ハイパーパラメータの範囲を指定\n",
    "param_grid = {\n",
    "    'C': [0.1, 1, 10],\n",
    "    'kernel': ['linear', 'rbf', 'poly'],\n",
    "    'degree': [2, 3, 4],\n",
    "}\n",
    "\n",
    "# Grid Searchを使用して最適なハイパーパラメータを探索\n",
    "grid_search = GridSearchCV(SVC(), param_grid, cv=5, scoring='accuracy')\n",
    "grid_search.fit(X_train_scaled, y_train)\n",
    "\n",
    "# 最適なハイパーパラメータを表示\n",
    "print(\"Best Parameters:\", grid_search.best_params_,\"\\n\")\n",
    "\n",
    "# 最適なモデルでテストデータで評価\n",
    "best_model = grid_search.best_estimator_\n",
    "y_pred = best_model.predict(X_test_scaled)\n",
    "\n",
    "# 精度の計算\n",
    "win, lose, draw, accuracy, accuracy_2 = calculate_values(confusion_matrix(y_test, y_pred))\n",
    "print(\"テストデータ：\",win, \"勝\", lose, \"敗\", draw, \"分（勝率：\", accuracy, \"％、負けない確率：\", accuracy_2,\"％）\")\n",
    "\n",
    "# 新規データ X_new を標準化\n",
    "X_new_scaled = scaler.transform(today)\n",
    "\n",
    "# SVMモデルを用いて予測\n",
    "y_new_pred = model.predict(X_new_scaled)\n",
    "opponent, me = my_hand(y_new_pred)\n",
    "print(\"今日は\", opponent, \"を出してくるので\", me, \"を出してください\")"
   ]
  },
  {
   "cell_type": "code",
   "execution_count": 5,
   "id": "11ba689e",
   "metadata": {},
   "outputs": [
    {
     "name": "stdout",
     "output_type": "stream",
     "text": [
      "Best Parameters: {'kernel': 'linear', 'degree': 2, 'C': 0.1} \n",
      "\n",
      "テストデータ： 193 勝 63 敗 72 分（勝率： 58.84146341463415 ％、負けない確率： 78.04878048780488 ％）\n",
      "今日は チョキ を出してくるので グー を出してください\n"
     ]
    },
    {
     "name": "stderr",
     "output_type": "stream",
     "text": [
      "/Users/hashimototatsunori/.venv/lib/python3.12/site-packages/sklearn/base.py:493: UserWarning: X does not have valid feature names, but StandardScaler was fitted with feature names\n",
      "  warnings.warn(\n"
     ]
    }
   ],
   "source": [
    "from sklearn.model_selection import RandomizedSearchCV\n",
    "from scipy.stats import randint\n",
    "\n",
    "# ハイパーパラメータの範囲を指定\n",
    "param_dist = {\n",
    "    'C': [0.1, 1, 10],\n",
    "    'kernel': ['linear', 'rbf', 'poly'],\n",
    "    'degree': [2, 3, 4],\n",
    "}\n",
    "\n",
    "# Randomized Searchを使用して最適なハイパーパラメータを探索\n",
    "random_search = RandomizedSearchCV(SVC(), param_distributions=param_dist, n_iter=10, cv=5, scoring='accuracy', random_state=42)\n",
    "random_search.fit(X_train_scaled, y_train)\n",
    "\n",
    "# 最適なハイパーパラメータを表示\n",
    "print(\"Best Parameters:\", random_search.best_params_,\"\\n\")\n",
    "\n",
    "# 最適なモデルでテストデータで評価\n",
    "best_model_random = random_search.best_estimator_\n",
    "y_pred_random = best_model_random.predict(X_test_scaled)\n",
    "\n",
    "# 精度の計算\n",
    "win, lose, draw, accuracy, accuracy_2 = calculate_values(confusion_matrix(y_test, y_pred))\n",
    "print(\"テストデータ：\",win, \"勝\", lose, \"敗\", draw, \"分（勝率：\", accuracy, \"％、負けない確率：\", accuracy_2,\"％）\")\n",
    "\n",
    "# 新規データ X_new を標準化\n",
    "X_new_scaled = scaler.transform(today)\n",
    "\n",
    "# SVMモデルを用いて予測\n",
    "y_new_pred = model.predict(X_new_scaled)\n",
    "opponent, me = my_hand(y_new_pred)\n",
    "print(\"今日は\", opponent, \"を出してくるので\", me, \"を出してください\")"
   ]
  },
  {
   "cell_type": "code",
   "execution_count": 6,
   "id": "c9d1a24c",
   "metadata": {},
   "outputs": [
    {
     "name": "stdout",
     "output_type": "stream",
     "text": [
      "テストデータ： 185 勝 73 敗 70 分（勝率： 56.40243902439025 ％、負けない確率： 78.65853658536585 ％）\n",
      "今日は グー を出してくるので パー を出してください\n"
     ]
    },
    {
     "name": "stderr",
     "output_type": "stream",
     "text": [
      "/Users/hashimototatsunori/.venv/lib/python3.12/site-packages/sklearn/base.py:493: UserWarning: X does not have valid feature names, but StandardScaler was fitted with feature names\n",
      "  warnings.warn(\n"
     ]
    }
   ],
   "source": [
    "from sklearn.ensemble import RandomForestClassifier\n",
    "\n",
    "# ランダムフォレストの構築\n",
    "model = RandomForestClassifier(n_estimators=100, random_state=42)\n",
    "\n",
    "# モデルの訓練\n",
    "model.fit(X_train_scaled, y_train)\n",
    "\n",
    "# テストデータで評価\n",
    "y_pred = model.predict(X_test_scaled)\n",
    "\n",
    "# 精度の計算\n",
    "win, lose, draw, accuracy, accuracy_2 = calculate_values(confusion_matrix(y_test, y_pred))\n",
    "print(\"テストデータ：\",win, \"勝\", lose, \"敗\", draw, \"分（勝率：\", accuracy, \"％、負けない確率：\", accuracy_2,\"％）\")\n",
    "\n",
    "# 新規データ X_new を標準化\n",
    "X_new_scaled = scaler.transform(today)\n",
    "\n",
    "# ランダムフォレストを用いて予測\n",
    "y_new_pred = model.predict(X_new_scaled)\n",
    "opponent, me = my_hand(y_new_pred)\n",
    "print(\"今日は\", opponent, \"を出してくるので\", me, \"を出してください\")"
   ]
  },
  {
   "cell_type": "code",
   "execution_count": null,
   "id": "29babf00",
   "metadata": {},
   "outputs": [
    {
     "name": "stdout",
     "output_type": "stream",
     "text": [
      "Epoch 1/25\n"
     ]
    },
    {
     "name": "stderr",
     "output_type": "stream",
     "text": [
      "/Users/hashimototatsunori/.venv/lib/python3.12/site-packages/keras/src/layers/core/dense.py:86: UserWarning: Do not pass an `input_shape`/`input_dim` argument to a layer. When using Sequential models, prefer using an `Input(shape)` object as the first layer in the model instead.\n",
      "  super().__init__(activity_regularizer=activity_regularizer, **kwargs)\n"
     ]
    }
   ],
   "source": [
    "from keras.models import Sequential\n",
    "from keras.layers import Dense\n",
    "from keras.utils import to_categorical\n",
    "\n",
    "# カテゴリ変数に変換\n",
    "y_categorical = to_categorical(data_orig['target'])\n",
    "\n",
    "# 訓練データとテストデータに分割\n",
    "X_train, X_test, y_train, y_test = train_test_split(data_orig['data'], y_categorical, test_size=0.2, random_state=42)\n",
    "\n",
    "# 説明変数を標準化\n",
    "scaler = StandardScaler()\n",
    "X_train_scaled = scaler.fit_transform(X_train)\n",
    "X_test_scaled = scaler.transform(X_test)\n",
    "\n",
    "# ニューラルネットワークの構築\n",
    "model = Sequential()\n",
    "model.add(Dense(64, input_dim=4, activation='relu'))\n",
    "model.add(Dense(32, activation='relu'))\n",
    "model.add(Dense(32, activation='relu'))\n",
    "model.add(Dense(3, activation='softmax'))\n",
    "\n",
    "# モデルのコンパイル\n",
    "model.compile(loss='categorical_crossentropy', optimizer='adam', metrics=['accuracy'])\n",
    "\n",
    "# モデルの訓練\n",
    "model.fit(X_train_scaled, y_train, epochs=25, batch_size=32, validation_data=(X_test, y_test))\n",
    "\n",
    "# テストデータで評価\n",
    "y_pred = model.predict(X_test_scaled)\n",
    "y_pred_classes = np.argmax(y_pred, axis=1)\n",
    "y_test_classes = np.argmax(y_test, axis=1)\n",
    "\n",
    "# 精度の計算\n",
    "win, lose, draw, accuracy, accuracy_2 = calculate_values(confusion_matrix(y_test_classes, y_pred_classes))\n",
    "print(\"テストデータ：\",win, \"勝\", lose, \"敗\", draw, \"分（勝率：\", accuracy, \"％、負けない確率：\", accuracy_2,\"％）\")\n",
    "\n",
    "# 新規データ X_new を標準化\n",
    "X_new_scaled = scaler.transform(today)\n",
    "\n",
    "# ニューラルネットワークを用いて予測\n",
    "y_new_pred = model.predict(X_new_scaled)\n",
    "opponent, me = my_hand(np.argmax(y_new_pred))\n",
    "print(\"今日は\", opponent, \"を出してくるので\", me, \"を出してください\")"
   ]
  },
  {
   "cell_type": "code",
   "execution_count": null,
   "id": "e6285a75",
   "metadata": {},
   "outputs": [],
   "source": []
  }
 ],
 "metadata": {
  "kernelspec": {
   "display_name": ".venv",
   "language": "python",
   "name": ".venv"
  },
  "language_info": {
   "codemirror_mode": {
    "name": "ipython",
    "version": 3
   },
   "file_extension": ".py",
   "mimetype": "text/x-python",
   "name": "python",
   "nbconvert_exporter": "python",
   "pygments_lexer": "ipython3",
   "version": "3.12.3"
  }
 },
 "nbformat": 4,
 "nbformat_minor": 5
}
