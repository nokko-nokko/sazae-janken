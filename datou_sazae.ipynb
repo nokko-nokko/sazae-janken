{
 "cells": [
  {
   "cell_type": "code",
   "execution_count": 2,
   "id": "d094a7ea",
   "metadata": {},
   "outputs": [],
   "source": [
    "import numpy as np\n",
    "\n",
    "# 勝敗と勝率の計算\n",
    "def calculate_values(matrix):\n",
    "    matrix = np.array(matrix)\n",
    "\n",
    "    win = matrix[0, 0] + matrix[1, 1] + matrix[2, 2]\n",
    "    lose = matrix[0, 2] + matrix[1, 0] + matrix[2, 1]\n",
    "    draw = matrix[0, 1] + matrix[1, 2] + matrix[2, 0]\n",
    "\n",
    "    total_sum = matrix.sum()\n",
    "    accuracy = win * 100 / total_sum\n",
    "    accuracy_2 = (win + lose) * 100 / total_sum\n",
    "    \n",
    "    return win, lose, draw, accuracy, accuracy_2\n",
    "\n",
    "# 予測結果への対策\n",
    "def my_hand(pred):\n",
    "    if(isinstance(pred, np.ndarray)):\n",
    "        pred = pred[0]\n",
    "    \n",
    "    if(pred == 0):\n",
    "        opponent = \"グー\"\n",
    "        me = \"パー\"\n",
    "    elif(pred == 1):\n",
    "        opponent = \"チョキ\"\n",
    "        me = \"グー\"\n",
    "    else:\n",
    "        opponent = \"パー\"\n",
    "        me = \"チョキ\"\n",
    "    \n",
    "    return opponent, me\n",
    "\n",
    "# 今日の説明変数\n",
    "today = [[1,3,1,2]]"
   ]
  },
  {
   "cell_type": "code",
   "execution_count": 3,
   "id": "d19fa58f",
   "metadata": {},
   "outputs": [],
   "source": [
    "import pandas as pd\n",
    "import sklearn\n",
    "from sklearn.model_selection import train_test_split\n",
    "from sklearn.svm import SVC\n",
    "from sklearn.preprocessing import StandardScaler\n",
    "from sklearn.metrics import confusion_matrix\n",
    "\n",
    "# データの読み込み\n",
    "df = pd.read_csv('sazae_python.csv')\n",
    "\n",
    "# 説明変数と目的変数の設定\n",
    "data_orig = sklearn.utils.Bunch()\n",
    "data_orig['target'] = df['sazae']\n",
    "data_orig['data'] = df.loc[:, ['week_1','recent_G','recent_C','recent_P']]"
   ]
  },
  {
   "cell_type": "markdown",
   "id": "1085b205-f49c-44d0-96f1-6eb925073814",
   "metadata": {},
   "source": [
    "## サポートベクターマシン（デフォルト）"
   ]
  },
  {
   "cell_type": "code",
   "execution_count": 4,
   "id": "e5ab04e8",
   "metadata": {},
   "outputs": [
    {
     "name": "stdout",
     "output_type": "stream",
     "text": [
      "テストデータ： 186 勝 71 敗 84 分（勝率： 54.54545454545455 ％、負けない確率： 75.366568914956 ％）\n",
      "今日は グー を出してくるので パー を出してください\n"
     ]
    },
    {
     "name": "stderr",
     "output_type": "stream",
     "text": [
      "/Users/hashimototatsunori/.venv/lib/python3.12/site-packages/sklearn/base.py:493: UserWarning: X does not have valid feature names, but StandardScaler was fitted with feature names\n",
      "  warnings.warn(\n"
     ]
    }
   ],
   "source": [
    "# 訓練データとテストデータに分割\n",
    "from sklearn.model_selection import train_test_split\n",
    "X_train, X_test, y_train, y_test = train_test_split(data_orig['data'], data_orig['target'], test_size=0.2, shuffle=True, random_state=0)\n",
    "\n",
    "# 説明変数を標準化\n",
    "scaler = StandardScaler()\n",
    "X_train_scaled = scaler.fit_transform(X_train)\n",
    "X_test_scaled = scaler.transform(X_test)\n",
    "\n",
    "# SVMモデルの構築\n",
    "model = SVC(kernel='linear', C=1)\n",
    "model.fit(X_train_scaled, y_train)\n",
    "\n",
    "# テストデータで予測\n",
    "y_pred = model.predict(X_test_scaled)\n",
    "\n",
    "# 精度の計算\n",
    "win, lose, draw, accuracy, accuracy_2 = calculate_values(confusion_matrix(y_test, y_pred))\n",
    "print(\"テストデータ：\",win, \"勝\", lose, \"敗\", draw, \"分（勝率：\", accuracy, \"％、負けない確率：\", accuracy_2,\"％）\")\n",
    "\n",
    "# 新規データ X_new を標準化\n",
    "X_new_scaled = scaler.transform(today)\n",
    "\n",
    "# SVMモデルを用いて予測\n",
    "y_new_pred = model.predict(X_new_scaled)\n",
    "opponent, me = my_hand(y_new_pred)\n",
    "print(\"今日は\", opponent, \"を出してくるので\", me, \"を出してください\")"
   ]
  },
  {
   "cell_type": "markdown",
   "id": "e1a4ce8c-b169-4a2b-9602-b34882f7d1c8",
   "metadata": {},
   "source": [
    "## サポートベクターマシン（グリッドサーチ）"
   ]
  },
  {
   "cell_type": "code",
   "execution_count": 5,
   "id": "67a9dc08",
   "metadata": {},
   "outputs": [
    {
     "name": "stdout",
     "output_type": "stream",
     "text": [
      "Best Parameters: {'C': 1, 'degree': 2, 'kernel': 'rbf'} \n",
      "\n",
      "テストデータ： 192 勝 77 敗 72 分（勝率： 56.3049853372434 ％、負けない確率： 78.88563049853373 ％）\n",
      "今日は グー を出してくるので パー を出してください\n"
     ]
    },
    {
     "name": "stderr",
     "output_type": "stream",
     "text": [
      "/Users/hashimototatsunori/.venv/lib/python3.12/site-packages/sklearn/base.py:493: UserWarning: X does not have valid feature names, but StandardScaler was fitted with feature names\n",
      "  warnings.warn(\n"
     ]
    }
   ],
   "source": [
    "from sklearn.model_selection import GridSearchCV\n",
    "\n",
    "# ハイパーパラメータの範囲を指定\n",
    "param_grid = {\n",
    "    'C': [0.1, 1, 10],\n",
    "    'kernel': ['linear', 'rbf', 'poly'],\n",
    "    'degree': [2, 3, 4],\n",
    "}\n",
    "\n",
    "# Grid Searchを使用して最適なハイパーパラメータを探索\n",
    "grid_search = GridSearchCV(SVC(), param_grid, cv=5, scoring='accuracy')\n",
    "grid_search.fit(X_train_scaled, y_train)\n",
    "\n",
    "# 最適なハイパーパラメータを表示\n",
    "print(\"Best Parameters:\", grid_search.best_params_,\"\\n\")\n",
    "\n",
    "# 最適なモデルでテストデータで評価\n",
    "best_model = grid_search.best_estimator_\n",
    "y_pred = best_model.predict(X_test_scaled)\n",
    "\n",
    "# 精度の計算\n",
    "win, lose, draw, accuracy, accuracy_2 = calculate_values(confusion_matrix(y_test, y_pred))\n",
    "print(\"テストデータ：\",win, \"勝\", lose, \"敗\", draw, \"分（勝率：\", accuracy, \"％、負けない確率：\", accuracy_2,\"％）\")\n",
    "\n",
    "# 新規データ X_new を標準化\n",
    "X_new_scaled = scaler.transform(today)\n",
    "\n",
    "# SVMモデルを用いて予測\n",
    "y_new_pred = model.predict(X_new_scaled)\n",
    "opponent, me = my_hand(y_new_pred)\n",
    "print(\"今日は\", opponent, \"を出してくるので\", me, \"を出してください\")"
   ]
  },
  {
   "cell_type": "markdown",
   "id": "e6120dd2-33d3-4837-b504-2954e79fc225",
   "metadata": {},
   "source": [
    "## サポートベクターマシン（ランダムサーチ）"
   ]
  },
  {
   "cell_type": "code",
   "execution_count": 6,
   "id": "11ba689e",
   "metadata": {},
   "outputs": [
    {
     "name": "stdout",
     "output_type": "stream",
     "text": [
      "Best Parameters: {'kernel': 'rbf', 'degree': 3, 'C': 1} \n",
      "\n",
      "テストデータ： 192 勝 77 敗 72 分（勝率： 56.3049853372434 ％、負けない確率： 78.88563049853373 ％）\n",
      "今日は グー を出してくるので パー を出してください\n"
     ]
    },
    {
     "name": "stderr",
     "output_type": "stream",
     "text": [
      "/Users/hashimototatsunori/.venv/lib/python3.12/site-packages/sklearn/base.py:493: UserWarning: X does not have valid feature names, but StandardScaler was fitted with feature names\n",
      "  warnings.warn(\n"
     ]
    }
   ],
   "source": [
    "from sklearn.model_selection import RandomizedSearchCV\n",
    "from scipy.stats import randint\n",
    "\n",
    "# ハイパーパラメータの範囲を指定\n",
    "param_dist = {\n",
    "    'C': [0.1, 1, 10],\n",
    "    'kernel': ['linear', 'rbf', 'poly'],\n",
    "    'degree': [2, 3, 4],\n",
    "}\n",
    "\n",
    "# Randomized Searchを使用して最適なハイパーパラメータを探索\n",
    "random_search = RandomizedSearchCV(SVC(), param_distributions=param_dist, n_iter=10, cv=5, scoring='accuracy', random_state=42)\n",
    "random_search.fit(X_train_scaled, y_train)\n",
    "\n",
    "# 最適なハイパーパラメータを表示\n",
    "print(\"Best Parameters:\", random_search.best_params_,\"\\n\")\n",
    "\n",
    "# 最適なモデルでテストデータで評価\n",
    "best_model_random = random_search.best_estimator_\n",
    "y_pred_random = best_model_random.predict(X_test_scaled)\n",
    "\n",
    "# 精度の計算\n",
    "win, lose, draw, accuracy, accuracy_2 = calculate_values(confusion_matrix(y_test, y_pred))\n",
    "print(\"テストデータ：\",win, \"勝\", lose, \"敗\", draw, \"分（勝率：\", accuracy, \"％、負けない確率：\", accuracy_2,\"％）\")\n",
    "\n",
    "# 新規データ X_new を標準化\n",
    "X_new_scaled = scaler.transform(today)\n",
    "\n",
    "# SVMモデルを用いて予測\n",
    "y_new_pred = model.predict(X_new_scaled)\n",
    "opponent, me = my_hand(y_new_pred)\n",
    "print(\"今日は\", opponent, \"を出してくるので\", me, \"を出してください\")"
   ]
  },
  {
   "cell_type": "markdown",
   "id": "319a87a9-f9d0-4042-b5b6-186da3ea4643",
   "metadata": {},
   "source": [
    "## ランダムフォレスト"
   ]
  },
  {
   "cell_type": "code",
   "execution_count": 7,
   "id": "c9d1a24c",
   "metadata": {},
   "outputs": [
    {
     "name": "stdout",
     "output_type": "stream",
     "text": [
      "テストデータ： 195 勝 74 敗 72 分（勝率： 57.18475073313783 ％、負けない確率： 78.88563049853373 ％）\n",
      "今日は チョキ を出してくるので グー を出してください\n"
     ]
    },
    {
     "name": "stderr",
     "output_type": "stream",
     "text": [
      "/Users/hashimototatsunori/.venv/lib/python3.12/site-packages/sklearn/base.py:493: UserWarning: X does not have valid feature names, but StandardScaler was fitted with feature names\n",
      "  warnings.warn(\n"
     ]
    }
   ],
   "source": [
    "from sklearn.ensemble import RandomForestClassifier\n",
    "\n",
    "# ランダムフォレストの構築\n",
    "model = RandomForestClassifier(n_estimators=100, random_state=42)\n",
    "\n",
    "# モデルの訓練\n",
    "model.fit(X_train_scaled, y_train)\n",
    "\n",
    "# テストデータで評価\n",
    "y_pred = model.predict(X_test_scaled)\n",
    "\n",
    "# 精度の計算\n",
    "win, lose, draw, accuracy, accuracy_2 = calculate_values(confusion_matrix(y_test, y_pred))\n",
    "print(\"テストデータ：\",win, \"勝\", lose, \"敗\", draw, \"分（勝率：\", accuracy, \"％、負けない確率：\", accuracy_2,\"％）\")\n",
    "\n",
    "# 新規データ X_new を標準化\n",
    "X_new_scaled = scaler.transform(today)\n",
    "\n",
    "# ランダムフォレストを用いて予測\n",
    "y_new_pred = model.predict(X_new_scaled)\n",
    "opponent, me = my_hand(y_new_pred)\n",
    "print(\"今日は\", opponent, \"を出してくるので\", me, \"を出してください\")"
   ]
  },
  {
   "cell_type": "markdown",
   "id": "2939c93d-225a-4c3c-8c4a-410ff8392ca4",
   "metadata": {},
   "source": [
    "## ニューラルネットワーク"
   ]
  },
  {
   "cell_type": "code",
   "execution_count": 8,
   "id": "21806214-d627-4c49-ab8b-fc320d8a4c54",
   "metadata": {},
   "outputs": [
    {
     "name": "stdout",
     "output_type": "stream",
     "text": [
      "Epoch 1/25\n"
     ]
    },
    {
     "name": "stderr",
     "output_type": "stream",
     "text": [
      "/Users/hashimototatsunori/.venv/lib/python3.12/site-packages/keras/src/layers/core/dense.py:86: UserWarning: Do not pass an `input_shape`/`input_dim` argument to a layer. When using Sequential models, prefer using an `Input(shape)` object as the first layer in the model instead.\n",
      "  super().__init__(activity_regularizer=activity_regularizer, **kwargs)\n"
     ]
    },
    {
     "name": "stdout",
     "output_type": "stream",
     "text": [
      "\u001b[1m43/43\u001b[0m \u001b[32m━━━━━━━━━━━━━━━━━━━━\u001b[0m\u001b[37m\u001b[0m \u001b[1m0s\u001b[0m 1ms/step - accuracy: 0.3622 - loss: 1.0903 - val_accuracy: 0.3930 - val_loss: 1.2078\n",
      "Epoch 2/25\n",
      "\u001b[1m43/43\u001b[0m \u001b[32m━━━━━━━━━━━━━━━━━━━━\u001b[0m\u001b[37m\u001b[0m \u001b[1m0s\u001b[0m 471us/step - accuracy: 0.5314 - loss: 0.9960 - val_accuracy: 0.5279 - val_loss: 1.1118\n",
      "Epoch 3/25\n",
      "\u001b[1m43/43\u001b[0m \u001b[32m━━━━━━━━━━━━━━━━━━━━\u001b[0m\u001b[37m\u001b[0m \u001b[1m0s\u001b[0m 415us/step - accuracy: 0.5537 - loss: 0.9541 - val_accuracy: 0.5543 - val_loss: 1.0817\n",
      "Epoch 4/25\n",
      "\u001b[1m43/43\u001b[0m \u001b[32m━━━━━━━━━━━━━━━━━━━━\u001b[0m\u001b[37m\u001b[0m \u001b[1m0s\u001b[0m 392us/step - accuracy: 0.5538 - loss: 0.9416 - val_accuracy: 0.5103 - val_loss: 1.2182\n",
      "Epoch 5/25\n",
      "\u001b[1m43/43\u001b[0m \u001b[32m━━━━━━━━━━━━━━━━━━━━\u001b[0m\u001b[37m\u001b[0m \u001b[1m0s\u001b[0m 394us/step - accuracy: 0.5649 - loss: 0.9146 - val_accuracy: 0.5015 - val_loss: 1.2299\n",
      "Epoch 6/25\n",
      "\u001b[1m43/43\u001b[0m \u001b[32m━━━━━━━━━━━━━━━━━━━━\u001b[0m\u001b[37m\u001b[0m \u001b[1m0s\u001b[0m 392us/step - accuracy: 0.5700 - loss: 0.9282 - val_accuracy: 0.4868 - val_loss: 1.2802\n",
      "Epoch 7/25\n",
      "\u001b[1m43/43\u001b[0m \u001b[32m━━━━━━━━━━━━━━━━━━━━\u001b[0m\u001b[37m\u001b[0m \u001b[1m0s\u001b[0m 375us/step - accuracy: 0.5611 - loss: 0.9284 - val_accuracy: 0.4751 - val_loss: 1.3269\n",
      "Epoch 8/25\n",
      "\u001b[1m43/43\u001b[0m \u001b[32m━━━━━━━━━━━━━━━━━━━━\u001b[0m\u001b[37m\u001b[0m \u001b[1m0s\u001b[0m 383us/step - accuracy: 0.5694 - loss: 0.8991 - val_accuracy: 0.5191 - val_loss: 1.1581\n",
      "Epoch 9/25\n",
      "\u001b[1m43/43\u001b[0m \u001b[32m━━━━━━━━━━━━━━━━━━━━\u001b[0m\u001b[37m\u001b[0m \u001b[1m0s\u001b[0m 406us/step - accuracy: 0.5796 - loss: 0.8991 - val_accuracy: 0.4780 - val_loss: 1.3159\n",
      "Epoch 10/25\n",
      "\u001b[1m43/43\u001b[0m \u001b[32m━━━━━━━━━━━━━━━━━━━━\u001b[0m\u001b[37m\u001b[0m \u001b[1m0s\u001b[0m 409us/step - accuracy: 0.5985 - loss: 0.8966 - val_accuracy: 0.4809 - val_loss: 1.2675\n",
      "Epoch 11/25\n",
      "\u001b[1m43/43\u001b[0m \u001b[32m━━━━━━━━━━━━━━━━━━━━\u001b[0m\u001b[37m\u001b[0m \u001b[1m0s\u001b[0m 406us/step - accuracy: 0.5946 - loss: 0.8979 - val_accuracy: 0.5044 - val_loss: 1.1522\n",
      "Epoch 12/25\n",
      "\u001b[1m43/43\u001b[0m \u001b[32m━━━━━━━━━━━━━━━━━━━━\u001b[0m\u001b[37m\u001b[0m \u001b[1m0s\u001b[0m 390us/step - accuracy: 0.5856 - loss: 0.9097 - val_accuracy: 0.4692 - val_loss: 1.2365\n",
      "Epoch 13/25\n",
      "\u001b[1m43/43\u001b[0m \u001b[32m━━━━━━━━━━━━━━━━━━━━\u001b[0m\u001b[37m\u001b[0m \u001b[1m0s\u001b[0m 412us/step - accuracy: 0.5855 - loss: 0.8948 - val_accuracy: 0.5220 - val_loss: 1.1052\n",
      "Epoch 14/25\n",
      "\u001b[1m43/43\u001b[0m \u001b[32m━━━━━━━━━━━━━━━━━━━━\u001b[0m\u001b[37m\u001b[0m \u001b[1m0s\u001b[0m 395us/step - accuracy: 0.5763 - loss: 0.9064 - val_accuracy: 0.4956 - val_loss: 1.1707\n",
      "Epoch 15/25\n",
      "\u001b[1m43/43\u001b[0m \u001b[32m━━━━━━━━━━━━━━━━━━━━\u001b[0m\u001b[37m\u001b[0m \u001b[1m0s\u001b[0m 407us/step - accuracy: 0.5690 - loss: 0.9212 - val_accuracy: 0.5337 - val_loss: 1.1134\n",
      "Epoch 16/25\n",
      "\u001b[1m43/43\u001b[0m \u001b[32m━━━━━━━━━━━━━━━━━━━━\u001b[0m\u001b[37m\u001b[0m \u001b[1m0s\u001b[0m 405us/step - accuracy: 0.5708 - loss: 0.9124 - val_accuracy: 0.5073 - val_loss: 1.0913\n",
      "Epoch 17/25\n",
      "\u001b[1m43/43\u001b[0m \u001b[32m━━━━━━━━━━━━━━━━━━━━\u001b[0m\u001b[37m\u001b[0m \u001b[1m0s\u001b[0m 400us/step - accuracy: 0.5668 - loss: 0.9208 - val_accuracy: 0.5132 - val_loss: 1.0230\n",
      "Epoch 18/25\n",
      "\u001b[1m43/43\u001b[0m \u001b[32m━━━━━━━━━━━━━━━━━━━━\u001b[0m\u001b[37m\u001b[0m \u001b[1m0s\u001b[0m 425us/step - accuracy: 0.6061 - loss: 0.8724 - val_accuracy: 0.5161 - val_loss: 1.0570\n",
      "Epoch 19/25\n",
      "\u001b[1m43/43\u001b[0m \u001b[32m━━━━━━━━━━━━━━━━━━━━\u001b[0m\u001b[37m\u001b[0m \u001b[1m0s\u001b[0m 407us/step - accuracy: 0.5961 - loss: 0.8817 - val_accuracy: 0.4809 - val_loss: 1.1180\n",
      "Epoch 20/25\n",
      "\u001b[1m43/43\u001b[0m \u001b[32m━━━━━━━━━━━━━━━━━━━━\u001b[0m\u001b[37m\u001b[0m \u001b[1m0s\u001b[0m 407us/step - accuracy: 0.5863 - loss: 0.8855 - val_accuracy: 0.5103 - val_loss: 1.0748\n",
      "Epoch 21/25\n",
      "\u001b[1m43/43\u001b[0m \u001b[32m━━━━━━━━━━━━━━━━━━━━\u001b[0m\u001b[37m\u001b[0m \u001b[1m0s\u001b[0m 406us/step - accuracy: 0.5645 - loss: 0.9139 - val_accuracy: 0.4839 - val_loss: 1.1182\n",
      "Epoch 22/25\n",
      "\u001b[1m43/43\u001b[0m \u001b[32m━━━━━━━━━━━━━━━━━━━━\u001b[0m\u001b[37m\u001b[0m \u001b[1m0s\u001b[0m 397us/step - accuracy: 0.6047 - loss: 0.8832 - val_accuracy: 0.4809 - val_loss: 1.0988\n",
      "Epoch 23/25\n",
      "\u001b[1m43/43\u001b[0m \u001b[32m━━━━━━━━━━━━━━━━━━━━\u001b[0m\u001b[37m\u001b[0m \u001b[1m0s\u001b[0m 399us/step - accuracy: 0.6018 - loss: 0.8678 - val_accuracy: 0.4780 - val_loss: 1.1013\n",
      "Epoch 24/25\n",
      "\u001b[1m43/43\u001b[0m \u001b[32m━━━━━━━━━━━━━━━━━━━━\u001b[0m\u001b[37m\u001b[0m \u001b[1m0s\u001b[0m 397us/step - accuracy: 0.5859 - loss: 0.8910 - val_accuracy: 0.4809 - val_loss: 1.0921\n",
      "Epoch 25/25\n",
      "\u001b[1m43/43\u001b[0m \u001b[32m━━━━━━━━━━━━━━━━━━━━\u001b[0m\u001b[37m\u001b[0m \u001b[1m0s\u001b[0m 457us/step - accuracy: 0.5829 - loss: 0.8763 - val_accuracy: 0.4721 - val_loss: 1.0702\n",
      "\u001b[1m11/11\u001b[0m \u001b[32m━━━━━━━━━━━━━━━━━━━━\u001b[0m\u001b[37m\u001b[0m \u001b[1m0s\u001b[0m 1ms/step \n",
      "テストデータ： 196 勝 75 敗 70 分（勝率： 57.47800586510264 ％、負けない確率： 79.47214076246334 ％）\n",
      "\u001b[1m1/1\u001b[0m \u001b[32m━━━━━━━━━━━━━━━━━━━━\u001b[0m\u001b[37m\u001b[0m \u001b[1m0s\u001b[0m 5ms/step\n",
      "今日は グー を出してくるので パー を出してください\n"
     ]
    },
    {
     "name": "stderr",
     "output_type": "stream",
     "text": [
      "/Users/hashimototatsunori/.venv/lib/python3.12/site-packages/sklearn/base.py:493: UserWarning: X does not have valid feature names, but StandardScaler was fitted with feature names\n",
      "  warnings.warn(\n"
     ]
    }
   ],
   "source": [
    "from keras.models import Sequential\n",
    "from keras.layers import Dense\n",
    "from keras.utils import to_categorical\n",
    "\n",
    "# カテゴリ変数に変換\n",
    "y_categorical = to_categorical(data_orig['target'])\n",
    "\n",
    "# 訓練データとテストデータに分割\n",
    "X_train, X_test, y_train, y_test = train_test_split(data_orig['data'], y_categorical, test_size=0.2, random_state=42)\n",
    "\n",
    "# 説明変数を標準化\n",
    "scaler = StandardScaler()\n",
    "X_train_scaled = scaler.fit_transform(X_train)\n",
    "X_test_scaled = scaler.transform(X_test)\n",
    "\n",
    "# ニューラルネットワークの構築\n",
    "model = Sequential()\n",
    "model.add(Dense(64, input_dim=4, activation='relu'))\n",
    "model.add(Dense(32, activation='relu'))\n",
    "model.add(Dense(32, activation='relu'))\n",
    "model.add(Dense(3, activation='softmax'))\n",
    "\n",
    "# モデルのコンパイル\n",
    "model.compile(loss='categorical_crossentropy', optimizer='adam', metrics=['accuracy'])\n",
    "\n",
    "# モデルの訓練\n",
    "model.fit(X_train_scaled, y_train, epochs=25, batch_size=32, validation_data=(X_test, y_test))\n",
    "\n",
    "# テストデータで評価\n",
    "y_pred = model.predict(X_test_scaled)\n",
    "y_pred_classes = np.argmax(y_pred, axis=1)\n",
    "y_test_classes = np.argmax(y_test, axis=1)\n",
    "\n",
    "# 精度の計算\n",
    "win, lose, draw, accuracy, accuracy_2 = calculate_values(confusion_matrix(y_test_classes, y_pred_classes))\n",
    "print(\"テストデータ：\",win, \"勝\", lose, \"敗\", draw, \"分（勝率：\", accuracy, \"％、負けない確率：\", accuracy_2,\"％）\")\n",
    "\n",
    "# 新規データ X_new を標準化\n",
    "X_new_scaled = scaler.transform(today)\n",
    "\n",
    "# ニューラルネットワークを用いて予測\n",
    "y_new_pred = model.predict(X_new_scaled)\n",
    "opponent, me = my_hand(np.argmax(y_new_pred))\n",
    "print(\"今日は\", opponent, \"を出してくるので\", me, \"を出してください\")"
   ]
  }
 ],
 "metadata": {
  "kernelspec": {
   "display_name": ".venv",
   "language": "python",
   "name": ".venv"
  },
  "language_info": {
   "codemirror_mode": {
    "name": "ipython",
    "version": 3
   },
   "file_extension": ".py",
   "mimetype": "text/x-python",
   "name": "python",
   "nbconvert_exporter": "python",
   "pygments_lexer": "ipython3",
   "version": "3.12.7"
  }
 },
 "nbformat": 4,
 "nbformat_minor": 5
}
